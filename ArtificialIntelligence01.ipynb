{
  "cells": [
    {
      "cell_type": "code",
      "execution_count": null,
      "metadata": {
        "id": "5D9ld_mZqFEH",
        "outputId": "0e9d7505-2ac4-41a1-e7b1-2462333636d1",
        "colab": {
          "base_uri": "https://localhost:8080/"
        }
      },
      "outputs": [
        {
          "output_type": "stream",
          "name": "stdout",
          "text": [
            "[[5, 4, 2], [3, 1, 7], ['e', 6, 8]]\n",
            "['U', 'U', 'R', 'D', 'R', 'D', 'L', 'L', 'U', 'R', 'D', 'R', 'U', 'L', 'D', 'L', 'U', 'U', 'R', 'R', 'D', 'L', 'D', 'R']\n",
            "El costo es: 24\n"
          ]
        }
      ],
      "source": [
        "# Title: Practica 1 - Inteligencia Artificial 8-puzzle\n",
        "import heapq\n",
        "\n",
        "class Puzzle: #definimos la clase\n",
        "    def __init__(self, state, parent=None, action=None):#definimos el estado, el padre y la accion inciales\n",
        "        self.state = state\n",
        "        self.parent = parent\n",
        "        self.action = action\n",
        "        self.cost = 0\n",
        "        self.heuristic = 0\n",
        "        self.depth = 0\n",
        "        if parent is not None:      #agreamos el costo, la profundidad y la heuristica\n",
        "            self.cost = parent.cost + 1\n",
        "            self.depth = parent.depth + 1\n",
        "\n",
        "    def __lt__(self, other): #definimos el orden de los nodos\n",
        "        return self.cost + self.heuristic < other.cost + other.heuristic\n",
        "\n",
        "    def __eq__(self, other): #definimos la igualdad de los nodos\n",
        "        return self.state == other.state\n",
        "\n",
        "    def __hash__(self): #definimos la funcion hash para indexar los estados del puzzle\n",
        "        return hash(str(self.state))\n",
        "\n",
        "    def is_goal(self): #definimos el estado final\n",
        "        return self.state == [[1, 2, 3], [4, 5, 6], [7, 8, 'e']]\n",
        "\n",
        "    def get_blank_pos(self): #definimos la posicion del espacio en blanco (e)\n",
        "        for i in range(3): #definimos el puzzle como una matriz de 3x3\n",
        "            for j in range(3):\n",
        "                if self.state[i][j] == 'e':\n",
        "                    return i, j\n",
        "\n",
        "    def get_successors(self): #definimos los posibles movimientos del espacio en blanco\n",
        "        i, j = self.get_blank_pos()\n",
        "        successors = []\n",
        "        if i > 0:\n",
        "            s = [row[:] for row in self.state] #si el espacio en blanco se encuentra en la fila 0, no se puede mover hacia arriba\n",
        "            s[i][j], s[i-1][j] = s[i-1][j], s[i][j]\n",
        "            successors.append(Puzzle(s, self, 'U')) #definimos arriba como U\n",
        "        if i < 2:\n",
        "            s = [row[:] for row in self.state] #si el espacio en blanco se encuentra en la fila 2, no se puede mover hacia abajo\n",
        "            s[i][j], s[i+1][j] = s[i+1][j], s[i][j]\n",
        "            successors.append(Puzzle(s, self, 'D')) #definimos abajo como D\n",
        "        if j > 0:\n",
        "            s = [row[:] for row in self.state] #si el espacio en blanco se encuentra en la columna 0, no se puede mover hacia la izquierda\n",
        "            s[i][j], s[i][j-1] = s[i][j-1], s[i][j]\n",
        "            successors.append(Puzzle(s, self, 'L')) #definimos izquierda como L\n",
        "        if j < 2:\n",
        "            s = [row[:] for row in self.state] #si el espacio en blanco se encuentra en la columna 2, no se puede mover hacia la derecha\n",
        "            s[i][j], s[i][j+1] = s[i][j+1], s[i][j]\n",
        "            successors.append(Puzzle(s, self, 'R')) #definimos derecha como R\n",
        "        return successors\n",
        "\n",
        "    def manhattan_distance(self): #definimos la distancia de manhattan\n",
        "        distance = 0\n",
        "        for i in range(3):\n",
        "            for j in range(3):\n",
        "                if self.state[i][j] != 'e':\n",
        "                    row, col = divmod(self.state[i][j]-1, 3)\n",
        "                    distance += abs(row-i) + abs(col-j)\n",
        "        return distance\n",
        "\n",
        "    def solve(self): #definimos el algoritmo A*\n",
        "        open_list = [self]\n",
        "        closed_list = set()\n",
        "        while open_list:\n",
        "            current = heapq.heappop(open_list) #definimos la cola de prioridad como la lista abierta\n",
        "            if current.is_goal():\n",
        "                path = []\n",
        "                while current.parent is not None: #definimos el camino como la lista de acciones\n",
        "                    path.append(current.action)\n",
        "                    current = current.parent\n",
        "                path.reverse()\n",
        "                return path\n",
        "            closed_list.add(current) #agregamos el nodo actual a la lista cerrada\n",
        "            for successor in current.get_successors(): #agregamos los sucesores del nodo actual a la lista abierta\n",
        "                if successor in closed_list:\n",
        "                    continue\n",
        "                successor.heuristic = 0.8 * successor.manhattan_distance() #definimos la heuristica como 0.8 * distancia de manhattan\n",
        "                heapq.heappush(open_list, successor)\n",
        "        return None\n",
        "\n",
        "p = Puzzle([[5, 4, 2], [3, 1, 7], ['e', 6, 8]]) #definimos el estado inicial\n",
        "solution = p.solve() #resolvemos el puzzle con el algoritmo A*, con la distancia de manhattan y la heuristica de peso 0.8\n",
        "print(p.state) #imprimimos el estado inicial\n",
        "print(solution)\n",
        "print('El costo es: '+ str(len(solution))) #imprimimos el costo del camino\n"
      ]
    }
  ],
  "metadata": {
    "kernelspec": {
      "display_name": "Python 3",
      "language": "python",
      "name": "python3"
    },
    "language_info": {
      "codemirror_mode": {
        "name": "ipython",
        "version": 3
      },
      "file_extension": ".py",
      "mimetype": "text/x-python",
      "name": "python",
      "nbconvert_exporter": "python",
      "pygments_lexer": "ipython3",
      "version": "3.11.2"
    },
    "orig_nbformat": 4,
    "colab": {
      "provenance": []
    }
  },
  "nbformat": 4,
  "nbformat_minor": 0
}